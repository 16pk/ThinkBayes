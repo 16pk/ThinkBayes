{
 "cells": [
  {
   "cell_type": "code",
   "execution_count": 1,
   "metadata": {
    "collapsed": false
   },
   "outputs": [],
   "source": [
    "%matplotlib inline\n",
    "import sys\n",
    "from __future__ import division, print_function\n",
    "%load_ext autoreload\n",
    "%autoreload 2 \n",
    "import sys\n",
    "sys.path.insert(0,'../code')"
   ]
  },
  {
   "cell_type": "markdown",
   "metadata": {},
   "source": [
    "More Estimation {#more}\n",
    "===============\n",
    "\n",
    "The Euro problem {#euro}\n",
    "----------------\n",
    "\n",
    "In <span>*Information Theory, Inference, and Learning\n",
    "Algorithms*</span>, David MacKay poses this problem:\n",
    "\n",
    "> A statistical statement appeared in \\`\\`The Guardian\" on Friday\n",
    "> January 4, 2002:\n",
    ">\n",
    "> > When spun on edge 250 times, a Belgian one-euro coin came up heads\n",
    "> > 140 times and tails 110. ‘It looks very suspicious to me,’ said\n",
    "> > Barry Blight, a statistics lecturer at the London School of\n",
    "> > Economics. ‘If the coin were unbiased, the chance of getting a\n",
    "> > result as extreme as that would be less than 7%.’\n",
    ">\n",
    "> But do these data give evidence that the coin is biased rather than\n",
    "> fair?\n",
    "\n",
    "To answer that question, we’ll proceed in two steps. The first is to\n",
    "estimate the probability that the coin lands face up. The second is to\n",
    "evaluate whether the data support the hypothesis that the coin is\n",
    "biased.\n",
    "\n",
    "You can download the code in this section from\n",
    "<http://thinkbayes.com/euro.py>. For more information see\n",
    "Section [download].\n",
    "\n",
    "Any given coin has some probability, $x$, of landing heads up when spun\n",
    "on edge. It seems reasonable to believe that the value of $x$ depends on\n",
    "some physical characteristics of the coin, primarily the distribution of\n",
    "weight.\n",
    "\n",
    "If a coin is perfectly balanced, we expect $x$ to be close to 50%, but\n",
    "for a lopsided coin, $x$ might be substantially different. We can use\n",
    "Bayes’s theorem and the observed data to estimate $x$.\n",
    "\n",
    "Let’s define 101 hypotheses, where $H_x$ is the hypothesis that the\n",
    "probability of heads is $x$%, for values from 0 to 100. I’ll start with\n",
    "a uniform prior where the probability of $H_x$ is the same for all $x$.\n",
    "We’ll come back later to consider other priors.\n",
    "\n",
    "[Posterior distribution for the Euro problem on a uniform\n",
    "prior.](figs/euro1.pdf)\n",
    "\n",
    "[fig.euro1]\n",
    "\n",
    "The likelihood function is relatively easy: If $H_x$ is true, the\n",
    "probability of heads is $x/100$ and the probability of tails is $1-\n",
    "x/100$."
   ]
  },
  {
   "cell_type": "code",
   "execution_count": 2,
   "metadata": {
    "collapsed": false
   },
   "outputs": [],
   "source": [
    "from thinkbayes import Suite\n",
    "class Euro(Suite):\n",
    "\n",
    "    def Likelihood(self, data, hypo):\n",
    "        x = hypo\n",
    "        if data == 'H':\n",
    "            return x/100.0\n",
    "        else:\n",
    "            return 1 - x/100.0"
   ]
  },
  {
   "cell_type": "markdown",
   "metadata": {},
   "source": [
    "Here’s the code that makes the suite and updates it:"
   ]
  },
  {
   "cell_type": "code",
   "execution_count": 3,
   "metadata": {
    "collapsed": true
   },
   "outputs": [],
   "source": [
    "suite = Euro(range(0, 101))\n",
    "dataset = 'H' * 140 + 'T' * 110\n",
    "\n",
    "for data in dataset:\n",
    "    suite.Update(data)"
   ]
  },
  {
   "cell_type": "markdown",
   "metadata": {},
   "source": [
    "The result may be plotted with:"
   ]
  },
  {
   "cell_type": "code",
   "execution_count": 4,
   "metadata": {
    "collapsed": false
   },
   "outputs": [
    {
     "data": {
      "image/png": "[encoded data removed]",
      "text/plain": [
       "<matplotlib.figure.Figure at 0x7def588>"
      ]
     },
     "metadata": {},
     "output_type": "display_data"
    }
   ],
   "source": [
    "import matplotlib.pyplot as plt  \n",
    "xs = list(range(0,100))\n",
    "ps = suite.Probs(xs)\n",
    "plt.plot(xs, ps);"
   ]
  },
  {
   "cell_type": "markdown",
   "metadata": {},
   "source": [
    "##Summarizing the posterior\n",
    "\n",
    "Again, there are several ways to summarize the posterior distribution.\n",
    "One option is to find the most likely value in the posterior\n",
    "distribution. `thinkbayes` provides a function that does that:\n",
    "\n",
    "```python\n",
    "    def MaximumLikelihood(pmf):\n",
    "        \"\"\"Returns the value with the highest probability.\"\"\"\n",
    "        prob, val = max((prob, val) for val, prob in pmf.Items())\n",
    "        return val\n",
    "```"
   ]
  },
  {
   "cell_type": "code",
   "execution_count": 5,
   "metadata": {
    "collapsed": false
   },
   "outputs": [
    {
     "data": {
      "text/plain": [
       "56"
      ]
     },
     "execution_count": 5,
     "metadata": {},
     "output_type": "execute_result"
    }
   ],
   "source": [
    "suite.MaximumLikelihood()"
   ]
  },
  {
   "cell_type": "markdown",
   "metadata": {},
   "source": [
    "In this case the result is 56, which is also the observed percentage of\n",
    "heads, $140/250 = 56\\%$. So that suggests (correctly) that the observed\n",
    "percentage is the maximum likelihood estimator for the population.\n",
    "\n",
    "We might also summarize the posterior by computing the mean and median:"
   ]
  },
  {
   "cell_type": "code",
   "execution_count": 6,
   "metadata": {
    "collapsed": false
   },
   "outputs": [
    {
     "name": "stdout",
     "output_type": "stream",
     "text": [
      "Mean 55.952380952380956\n",
      "Median 56\n"
     ]
    }
   ],
   "source": [
    "import thinkbayes\n",
    "print('Mean', suite.Mean())\n",
    "print('Median', thinkbayes.Percentile(suite, 50))"
   ]
  },
  {
   "cell_type": "markdown",
   "metadata": {},
   "source": [
    "Finally, we can compute a credible interval:"
   ]
  },
  {
   "cell_type": "code",
   "execution_count": 7,
   "metadata": {
    "collapsed": false
   },
   "outputs": [
    {
     "name": "stdout",
     "output_type": "stream",
     "text": [
      "CI (51, 61)\n"
     ]
    }
   ],
   "source": [
    "print('CI', thinkbayes.CredibleInterval(suite, 90))"
   ]
  },
  {
   "cell_type": "markdown",
   "metadata": {},
   "source": [
    "Now, getting back to the original question, we would like to know\n",
    "whether the coin is fair. We observe that the posterior credible\n",
    "interval does not include 50%, which suggests that the coin is not fair.\n",
    "\n",
    "But that is not exactly the question we started with. MacKay asked, “ Do\n",
    "these data give evidence that the coin is biased rather than fair?” To\n",
    "answer that question, we will have to be more precise about what it\n",
    "means to say that data constitute evidence for a hypothesis. And that is\n",
    "the subject of the next chapter.\n",
    "\n",
    "But before we go on, I want to address one possible source of confusion.\n",
    "Since we want to know whether the coin is fair, it might be tempting to\n",
    "ask for the probability that <span>x</span> is 50%:\n",
    "\n",
    "        print suite.Prob(50)\n",
    "\n",
    "The result is 0.021, but that value is almost meaningless. The decision\n",
    "to evaluate 101 hypotheses was arbitrary; we could have divided the\n",
    "range into more or fewer pieces, and if we had, the probability for any\n",
    "given hypothesis would be greater or less."
   ]
  },
  {
   "cell_type": "markdown",
   "metadata": {},
   "source": [
    "##Swamping the priors {#triangle}\n",
    "\n",
    "We started with a uniform prior, but that might not be a good choice. I\n",
    "can believe that if a coin is lopsided, $x$ might deviate substantially\n",
    "from 50%, but it seems unlikely that the Belgian Euro coin is so\n",
    "imbalanced that $x$ is 10% or 90%.\n",
    "\n",
    "It might be more reasonable to choose a prior that gives higher\n",
    "probability to values of $x$ near 50% and lower probability to extreme\n",
    "values.\n",
    "\n",
    "As an example, I constructed a triangular prior. Here’s the code that constructs the prior:"
   ]
  },
  {
   "cell_type": "code",
   "execution_count": 8,
   "metadata": {
    "collapsed": true
   },
   "outputs": [],
   "source": [
    "def TrianglePrior(suite):\n",
    "    for x in range(0, 51):\n",
    "        suite.Set(x, x)\n",
    "    for x in range(51, 101):\n",
    "        suite.Set(x, 100-x) \n",
    "    suite.Normalize()\n",
    "    return suite"
   ]
  },
  {
   "cell_type": "code",
   "execution_count": 9,
   "metadata": {
    "collapsed": false
   },
   "outputs": [
    {
     "data": {
      "image/png": "[encoded data removed]",
      "text/plain": [
       "<matplotlib.figure.Figure at 0x7e1fdd8>"
      ]
     },
     "metadata": {},
     "output_type": "display_data"
    }
   ],
   "source": [
    "xs = list(range(0,100))\n",
    "\n",
    "ps = thinkbayes.MakeUniformPmf(0, 100, 101).Probs(xs)\n",
    "plt.plot(xs, ps, label='uniform', color='k')\n",
    "\n",
    "suite = TrianglePrior(Euro())\n",
    "ps = suite.Probs(xs)\n",
    "plt.plot(xs, ps, label='triangle');\n",
    "plt.legend();"
   ]
  },
  {
   "cell_type": "markdown",
   "metadata": {},
   "source": [
    "This shows the result (and the uniform prior for\n",
    "comparison). Updating this prior with the same dataset yields the\n",
    "posterior distribution shown in Figure [fig.euro3]. Even with\n",
    "substantially different priors, the posterior distributions are very\n",
    "similar. The medians and the credible intervals are identical; the means\n",
    "differ by less than 0.5%."
   ]
  },
  {
   "cell_type": "code",
   "execution_count": 10,
   "metadata": {
    "collapsed": false
   },
   "outputs": [
    {
     "data": {
      "image/png": "[encoded data removed]",
      "text/plain": [
       "<matplotlib.figure.Figure at 0x83dba58>"
      ]
     },
     "metadata": {},
     "output_type": "display_data"
    }
   ],
   "source": [
    "for data in dataset:\n",
    "    suite.Update(data)\n",
    "    \n",
    "ps = thinkbayes.MakeUniformPmf(0, 100, 101).Probs(xs)\n",
    "plt.plot(xs, ps, label='uniform', color='k')\n",
    "\n",
    "ps = suite.Probs(xs)\n",
    "plt.plot(xs, ps, label='triangle');\n",
    "plt.legend();"
   ]
  },
  {
   "cell_type": "markdown",
   "metadata": {},
   "source": [
    "This is an example of **swamping the priors** with enough\n",
    "data, people who start with different priors will tend to converge on\n",
    "the same posterior."
   ]
  },
  {
   "cell_type": "markdown",
   "metadata": {},
   "source": [
    "##Optimization\n",
    "\n",
    "The code I have shown so far is meant to be easy to read, but it is not\n",
    "very efficient. In general, I like to develop code that is demonstrably\n",
    "correct, then check whether it is fast enough for my purposes. If so,\n",
    "there is no need to optimize. For this example, if we care about run\n",
    "time, there are several ways we can speed it up.\n",
    "\n",
    "The first opportunity is to reduce the number of times we normalize the\n",
    "suite. In the original code, we call `Update` once for each spin.\n",
    "\n",
    "```python\n",
    "        dataset = 'H' * heads + 'T' * tails\n",
    "\n",
    "        for data in dataset:\n",
    "            suite.Update(data)\n",
    "```\n",
    "\n",
    "And here’s what `Update` looks like:\n",
    "\n",
    "```python\n",
    "        def Update(self, data):\n",
    "            for hypo in self.Values():\n",
    "                like = self.Likelihood(data, hypo)\n",
    "                self.Mult(hypo, like)\n",
    "            return self.Normalize()\n",
    "```\n",
    "\n",
    "Each update iterates through the hypotheses, then calls `Normalize`,\n",
    "which iterates through the hypotheses again. We can save some time by\n",
    "doing all of the updates before normalizing.\n",
    "\n",
    "`Suite` provides a method called `UpdateSet` that does exactly that.\n",
    "Here it is:\n",
    "\n",
    "```\n",
    "        def UpdateSet(self, dataset):\n",
    "            for data in dataset:\n",
    "                for hypo in self.Values():\n",
    "                    like = self.Likelihood(data, hypo)\n",
    "                    self.Mult(hypo, like)\n",
    "            return self.Normalize()\n",
    "```\n",
    "\n",
    "And here’s how we can invoke it:"
   ]
  },
  {
   "cell_type": "code",
   "execution_count": 11,
   "metadata": {
    "collapsed": false
   },
   "outputs": [
    {
     "data": {
      "text/plain": [
       "2.38031546401283e-75"
      ]
     },
     "execution_count": 11,
     "metadata": {},
     "output_type": "execute_result"
    }
   ],
   "source": [
    "heads, tails = 140, 110\n",
    "\n",
    "dataset = 'H' * heads + 'T' * tails\n",
    "suite.UpdateSet(dataset)"
   ]
  },
  {
   "cell_type": "markdown",
   "metadata": {},
   "source": [
    "This optimization speeds things up, but the run time is still\n",
    "proportional to the amount of data. We can speed things up even more by\n",
    "rewriting `Likelihood` to process the entire dataset, rather than one\n",
    "spin at a time.\n",
    "\n",
    "In the original version, `data` is a string that encodes either heads or\n",
    "tails:\n",
    "\n",
    "```python\n",
    "def Likelihood(self, data, hypo):\n",
    "    x = hypo / 100.0\n",
    "    if data == 'H':\n",
    "        return x\n",
    "    else:\n",
    "        return 1-x\n",
    "```\n",
    "\n",
    "As an alternative, we could encode the dataset as a tuple of two\n",
    "integers: the number of heads and tails. In that case `Likelihood` looks\n",
    "like this:\n",
    "\n",
    "```python\n",
    "def Likelihood(self, data, hypo):\n",
    "    x = hypo / 100.0\n",
    "    heads, tails = data\n",
    "    like = x**heads * (1-x)**tails\n",
    "    return like\n",
    "```\n",
    "\n",
    "And then we can call `Update` like this:"
   ]
  },
  {
   "cell_type": "code",
   "execution_count": 12,
   "metadata": {
    "collapsed": false
   },
   "outputs": [
    {
     "data": {
      "text/plain": [
       "0.4413448096175153"
      ]
     },
     "execution_count": 12,
     "metadata": {},
     "output_type": "execute_result"
    }
   ],
   "source": [
    "heads, tails = 140, 110\n",
    "suite.Update((heads, tails))"
   ]
  },
  {
   "cell_type": "markdown",
   "metadata": {},
   "source": [
    "Since we have replaced repeated multiplication with exponentiation, this\n",
    "version takes the same time for any number of spins."
   ]
  },
  {
   "cell_type": "markdown",
   "metadata": {},
   "source": [
    "## The beta distribution\n",
    "\n",
    "There is one more optimization that solves this problem even faster.\n",
    "\n",
    "So far we have used a Pmf object to represent a discrete set of values\n",
    "for $x$. Now we will use a continuous distribution,\n",
    "specifically the beta distribution (see\n",
    "<http://en.wikipedia.org/wiki/Beta_distribution>).\n",
    "\n",
    "The beta distribution is defined on the interval from 0 to 1 (including\n",
    "both), so it is a natural choice for describing proportions and\n",
    "probabilities. But wait, it gets better.\n",
    "\n",
    "It turns out that if you do a Bayesian update with a binomial likelihood\n",
    "function, as we did in the previous section, the beta distribution is a\n",
    "<span>**conjugate prior**</span>. That means that if the prior\n",
    "distribution for <span>x</span> is a beta distribution, the posterior is\n",
    "also a beta distribution. But wait, it gets even better.\n",
    "\n",
    "The shape of the beta distribution depends on two parameters, written\n",
    "$\\alpha$ and $\\beta$, or <span>alpha</span> and <span>beta</span>. If\n",
    "the prior is a beta distribution with parameters <span>alpha</span> and\n",
    "<span>beta</span>, and we see data with <span>h</span> heads and\n",
    "<span>t</span> tails, the posterior is a beta distribution with\n",
    "parameters <span>alpha+h</span> and <span>beta+t</span>. In other words,\n",
    "we can do an update with two additions.\n",
    "\n",
    "So that’s great, but it only works if we can find a beta distribution\n",
    "that is a good choice for a prior. Fortunately, for many realistic\n",
    "priors there is a beta distribution that is at least a good\n",
    "approximation, and for a uniform prior there is a perfect match. The\n",
    "beta distribution with <span>alpha=1</span> and <span>beta=1</span> is\n",
    "uniform from 0 to 1.\n",
    "\n",
    "Let’s see how we can take advantage of all this.\n",
    "<span>thinkbayes.py</span> provides a class that represents a beta\n",
    "distribution:\n",
    "\n",
    "```python\n",
    "class Beta(object):\n",
    "\n",
    "    def __init__(self, alpha=1, beta=1):\n",
    "        self.alpha = alpha\n",
    "        self.beta = beta\n",
    "```\n",
    "\n",
    "By default `__init__` makes a uniform distribution. <span>Update</span>\n",
    "performs a Bayesian update:\n",
    "\n",
    "```python\n",
    "def Update(self, data):\n",
    "    heads, tails = data\n",
    "    self.alpha += heads\n",
    "    self.beta += tails\n",
    "```\n",
    "\n",
    "`data` is a pair of integers representing the number of heads\n",
    "and tails.\n",
    "\n",
    "So we have yet another way to solve the Euro problem:"
   ]
  },
  {
   "cell_type": "code",
   "execution_count": 13,
   "metadata": {
    "collapsed": false
   },
   "outputs": [
    {
     "name": "stdout",
     "output_type": "stream",
     "text": [
      "0.5595238095238095\n"
     ]
    }
   ],
   "source": [
    "beta = thinkbayes.Beta()\n",
    "beta.Update((140, 110))\n",
    "print(beta.Mean())"
   ]
  },
  {
   "cell_type": "markdown",
   "metadata": {},
   "source": [
    "`Beta` provides `Mean,` which computes a simple\n",
    "function of `alpha` and `beta`:\n",
    "\n",
    "```python\n",
    "def Mean(self):\n",
    "    return float(self.alpha) / (self.alpha + self.beta)\n",
    "```\n",
    "\n",
    "For the Euro problem the posterior mean is 56%, which is the same result\n",
    "we got using Pmfs.\n",
    "\n",
    "`Beta` also provides `EvalPdf`, which evaluates\n",
    "the probability density function (PDF) of the beta distribution:\n",
    "\n",
    "```python\n",
    "def EvalPdf(self, x):\n",
    "    return x**(self.alpha-1) * (1-x)**(self.beta-1)\n",
    "```"
   ]
  },
  {
   "cell_type": "code",
   "execution_count": 14,
   "metadata": {
    "collapsed": false
   },
   "outputs": [
    {
     "data": {
      "text/plain": [
       "111"
      ]
     },
     "execution_count": 14,
     "metadata": {},
     "output_type": "execute_result"
    }
   ],
   "source": [
    "beta.beta"
   ]
  },
  {
   "cell_type": "code",
   "execution_count": 15,
   "metadata": {
    "collapsed": false
   },
   "outputs": [
    {
     "data": {
      "text/plain": [
       "3.192662744667652e-75"
      ]
     },
     "execution_count": 15,
     "metadata": {},
     "output_type": "execute_result"
    }
   ],
   "source": [
    "beta.EvalPdf(.55)"
   ]
  },
  {
   "cell_type": "markdown",
   "metadata": {},
   "source": [
    "Finally, `Beta` provides `MakePmf`, which uses\n",
    "`EvalPdf` to generate a discrete approximation of the beta\n",
    "distribution."
   ]
  },
  {
   "cell_type": "code",
   "execution_count": 16,
   "metadata": {
    "collapsed": false
   },
   "outputs": [
    {
     "data": {
      "image/png": "[encoded data removed]",
      "text/plain": [
       "<matplotlib.figure.Figure at 0x7e3ea90>"
      ]
     },
     "metadata": {},
     "output_type": "display_data"
    }
   ],
   "source": [
    "pmf = beta.MakePmf()\n",
    "xs = [i / 100. for i in range(101)]\n",
    "ps = pmf.Probs(xs)\n",
    "plt.plot(xs, ps);"
   ]
  },
  {
   "cell_type": "markdown",
   "metadata": {},
   "source": [
    "##Discussion\n",
    "\n",
    "In this chapter we solved the same problem with two different priors and\n",
    "found that with a large dataset, the priors get swamped. If two people\n",
    "start with different prior beliefs, they generally find, as they see\n",
    "more data, that their posterior distributions converge. At some point\n",
    "the difference between their distribution is small enough that it has no\n",
    "practical effect.\n",
    "\n",
    "When this happens, it relieves some of the worry about objectivity that\n",
    "I discussed in the previous chapter. And for many real-world problems\n",
    "even stark prior beliefs can eventually be reconciled by data.\n",
    "\n",
    "But that is not always the case. First, remember that all Bayesian\n",
    "analysis is based on modeling decisions. If you and I do not choose the\n",
    "same model, we might interpret data differently. So even with the same\n",
    "data, we would compute different likelihoods, and our posterior beliefs\n",
    "might not converge.\n",
    "\n",
    "Also, notice that in a Bayesian update, we multiply each prior\n",
    "probability by a likelihood, so if $\\mathrm{p}(H)$ is 0,\n",
    "$\\mathrm{p}(H|D)$ is also 0, regardless of $D$. In the Euro\n",
    "problem, if you are convinced that $x$ is less than 50%, and you assign\n",
    "probability 0 to all other hypotheses, no amount of data will convince\n",
    "you otherwise.\n",
    "\n",
    "This observation is the basis of **Cromwell’s rule**, which\n",
    "is the recommendation that you should avoid giving a prior probability\n",
    "of 0 to any hypothesis that is even remotely possible (see\n",
    "<http://en.wikipedia.org/wiki/Cromwell's_rule>).\n",
    "\n",
    "Cromwell’s rule is named after Oliver Cromwell, who wrote, “I beseech\n",
    "you, in the bowels of Christ, think it possible that you may be\n",
    "mistaken.” For Bayesians, this turns out to be good advice (even if it’s\n",
    "a little overwrought)."
   ]
  },
  {
   "cell_type": "markdown",
   "metadata": {},
   "source": [
    "Exercises\n",
    "---------\n",
    "\n",
    "Suppose that instead of observing coin tosses directly, you measure the\n",
    "outcome using an instrument that is not always correct. Specifically,\n",
    "suppose there is a probability <span>y</span> that an actual heads is\n",
    "reported as tails, or actual tails reported as heads.\n",
    "\n",
    "Write a class that estimates the bias of a coin given a series of\n",
    "outcomes and the value of <span>y</span>.\n",
    "\n",
    "How does the spread of the posterior distribution depend on\n",
    "<span>y</span>?\n",
    "\n",
    "This exercise is inspired by a question posted by a “redditor” named\n",
    "dominosci on Reddit’s statistics “subreddit” at\n",
    "<http://reddit.com/r/statistics>.\n",
    "\n",
    "Reddit is an online forum with many interest groups called subreddits.\n",
    "Users, called redditors, post links to online content and other web\n",
    "pages. Other redditors vote on the links, giving an “upvote” to\n",
    "high-quality links and a “downvote” to links that are bad or irrelevant.\n",
    "\n",
    "A problem, identified by dominosci, is that some redditors are more\n",
    "reliable than others, and Reddit does not take this into account.\n",
    "\n",
    "The challenge is to devise a system so that when a redditor casts a\n",
    "vote, the estimated quality of the link is updated in accordance with\n",
    "the reliability of the redditor, and the estimated reliability of the\n",
    "redditor is updated in accordance with the quality of the link.\n",
    "\n",
    "One approach is to model the quality of the link as the probability of\n",
    "garnering an upvote, and to model the reliability of the redditor as the\n",
    "probability of correctly giving an upvote to a high-quality item.\n",
    "\n",
    "Write class definitions for redditors and links and an update function\n",
    "that updates both objects whenever a redditor casts a vote."
   ]
  }
 ],
 "metadata": {
  "kernelspec": {
   "display_name": "Python 3",
   "language": "python",
   "name": "python3"
  },
  "language_info": {
   "codemirror_mode": {
    "name": "ipython",
    "version": 3
   },
   "file_extension": ".py",
   "mimetype": "text/x-python",
   "name": "python",
   "nbconvert_exporter": "python",
   "pygments_lexer": "ipython3",
   "version": "3.4.1"
  }
 },
 "nbformat": 4,
 "nbformat_minor": 0
}
